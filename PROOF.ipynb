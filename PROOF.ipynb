{
  "cells": [
    {
      "cell_type": "markdown",
      "metadata": {
        "id": "pUjhEWKNuwml"
      },
      "source": [
        "Write a simple function to check if a provided string is a valid email address"
      ]
    },
    {
      "cell_type": "code",
      "execution_count": null,
      "metadata": {
        "id": "Vlw6xrxfh-xf"
      },
      "outputs": [],
      "source": [
        "import re"
      ]
    },
    {
      "cell_type": "code",
      "execution_count": null,
      "metadata": {
        "colab": {
          "base_uri": "https://localhost:8080/"
        },
        "id": "IHvwZbccu8he",
        "outputId": "1f2553d1-020d-42cb-c237-7806300eb27b"
      },
      "outputs": [
        {
          "data": {
            "text/plain": [
              "True"
            ]
          },
          "execution_count": 15,
          "metadata": {},
          "output_type": "execute_result"
        }
      ],
      "source": [
        "# todo\n",
        "def is_valid_email(email):\n",
        "  pattern = '[a-zA-Z0-9-._]+@[a-zA-Z0-9-._]+\\.[a-zA-Z0-9.]+'\n",
        "  result = re.match(pattern, email)\n",
        "  if result is None:\n",
        "    return False\n",
        "  return True\n",
        "\n",
        "is_valid_email('alessandra-.g_orla@gmail.com')"
      ]
    },
    {
      "cell_type": "markdown",
      "metadata": {
        "id": "VsGjUKtGu9rn"
      },
      "source": [
        "Write a simple function to check if a string starts with 'C'"
      ]
    },
    {
      "cell_type": "code",
      "execution_count": null,
      "metadata": {
        "colab": {
          "base_uri": "https://localhost:8080/"
        },
        "id": "1IHzpK-cvNaT",
        "outputId": "3cf4d8e1-8a84-4b67-d3d0-13343f289d28"
      },
      "outputs": [
        {
          "data": {
            "text/plain": [
              "False"
            ]
          },
          "execution_count": 20,
          "metadata": {},
          "output_type": "execute_result"
        }
      ],
      "source": [
        "# todo\n",
        "\n",
        "def starts_with_C(string_to_check):\n",
        "  return string_to_check.startswith('C')\n",
        "\n",
        "def starts_with_C_regex(string_to_check):\n",
        "  pattern = '^C'\n",
        "  result = re.match(pattern, string_to_check)\n",
        "  if result is None:\n",
        "    return False\n",
        "  return True\n",
        "\n",
        "starts_with_C_regex('ciao')"
      ]
    },
    {
      "cell_type": "markdown",
      "metadata": {
        "id": "ci1PX-8vvOZD"
      },
      "source": [
        "Write a function to check if the string starts with a capitalized letter and the rest is not capitalized"
      ]
    },
    {
      "cell_type": "code",
      "execution_count": null,
      "metadata": {
        "colab": {
          "base_uri": "https://localhost:8080/"
        },
        "id": "TG2RUO84wNwn",
        "outputId": "8121dd4e-d021-4cc2-91ba-a572b7447c5c"
      },
      "outputs": [
        {
          "data": {
            "text/plain": [
              "False"
            ]
          },
          "execution_count": 35,
          "metadata": {},
          "output_type": "execute_result"
        }
      ],
      "source": [
        "# todo\n",
        "\n",
        "def starts_with_capitalized(string_to_check):\n",
        "  pattern = '^[A-Z][a-z]*$'\n",
        "  result = re.match(pattern, string_to_check)\n",
        "  if result is None:\n",
        "    return False\n",
        "  return True\n",
        "\n",
        "starts_with_capitalized('CcC')"
      ]
    },
    {
      "cell_type": "markdown",
      "metadata": {
        "id": "NWqj-jrjwTfw"
      },
      "source": [
        "Write a function to check if a string is a valid date in the format `YYYY-MM-DD`"
      ]
    },
    {
      "cell_type": "code",
      "execution_count": null,
      "metadata": {
        "colab": {
          "base_uri": "https://localhost:8080/"
        },
        "id": "C2bwINz3wcn3",
        "outputId": "68b5287f-152a-4762-9168-0c6053af91b4"
      },
      "outputs": [
        {
          "data": {
            "text/plain": [
              "False"
            ]
          },
          "execution_count": 49,
          "metadata": {},
          "output_type": "execute_result"
        }
      ],
      "source": [
        "# todo\n",
        "\n",
        "def is_valid_date(date):\n",
        "  pattern = '[0-9]{4}-[0-9]{2}-[0-9]{2}$'\n",
        "  # try difference between match and search\n",
        "  #result = re.match(pattern, date)\n",
        "  result = re.search(pattern, date)\n",
        "  if result is None:\n",
        "    return False\n",
        "  return True\n",
        "\n",
        "is_valid_date('a2024-12-30')"
      ]
    },
    {
      "cell_type": "markdown",
      "metadata": {
        "id": "BQNfqHxO1JEG"
      },
      "source": [
        "Write a function that removes digits from a string"
      ]
    },
    {
      "cell_type": "code",
      "execution_count": null,
      "metadata": {
        "colab": {
          "base_uri": "https://localhost:8080/",
          "height": 35
        },
        "id": "hPnJMk_r4nFt",
        "outputId": "69ddb1c8-b590-48c6-f714-b7961e58ff22"
      },
      "outputs": [
        {
          "data": {
            "application/vnd.google.colaboratory.intrinsic+json": {
              "type": "string"
            },
            "text/plain": [
              "'Ciao'"
            ]
          },
          "execution_count": 52,
          "metadata": {},
          "output_type": "execute_result"
        }
      ],
      "source": [
        "#todo\n",
        "\n",
        "def remove_digits(string_to_clean):\n",
        "  pattern = '[0-9]'\n",
        "  result = re.sub(pattern, '',string_to_clean)\n",
        "  return result\n",
        "\n",
        "remove_digits('Ci88ao')"
      ]
    },
    {
      "cell_type": "markdown",
      "metadata": {
        "id": "Xiz7nh3Jw1xK"
      },
      "source": [
        "Write a function to check if a string is a valid spanish phone number (may include dashes)"
      ]
    },
    {
      "cell_type": "code",
      "execution_count": null,
      "metadata": {
        "id": "tEXGMg8bxMtq"
      },
      "outputs": [],
      "source": [
        "#todo"
      ]
    },
    {
      "cell_type": "markdown",
      "metadata": {
        "id": "NBb9s69Upp_m"
      },
      "source": [
        "## Match a list of words"
      ]
    },
    {
      "cell_type": "markdown",
      "metadata": {
        "id": "Nte7djiBpOfb"
      },
      "source": [
        "Enter a regexp that matches all the items in the list.\n",
        "You need to match the whole line, meaning a full match.\n"
      ]
    },
    {
      "cell_type": "code",
      "execution_count": 8,
      "metadata": {
        "id": "NFyYo46xo1yg"
      },
      "outputs": [
        {
          "name": "stdout",
          "output_type": "stream",
          "text": [
            "True\n",
            "True\n",
            "True\n",
            "0\n"
          ]
        }
      ],
      "source": [
        "my_list = ['pit', 'spit', 'spate', 'split', 'pite']\n",
        "\n",
        "\n",
        "\n",
        "regex = 'sp'\n",
        "\n",
        "for element in my_list:\n",
        "    result = 0\n",
        "    if re.search(regex, element) != None:\n",
        "        print(True)\n",
        "print(result)\n",
        "        "
      ]
    },
    {
      "cell_type": "code",
      "execution_count": 2,
      "metadata": {},
      "outputs": [],
      "source": [
        "import re\n",
        "\n",
        "[0-9]+ - [0-9]+ = -? [0-9]+"
      ]
    },
    {
      "cell_type": "code",
      "execution_count": null,
      "metadata": {
        "id": "kc3I28hdyjfG"
      },
      "outputs": [],
      "source": [
        "'''\n",
        "12 - 12 = 0\n",
        "56 - 56 = 0\n",
        "0 - 0 = 0\n",
        "0 - 13 = - 13\n",
        "25 - 0 = 25\n",
        "'''\n",
        "\n",
        "regexp = '[0-9]+ - [0-9]+ = -? ?[0-9]+'\n"
      ]
    },
    {
      "cell_type": "code",
      "execution_count": null,
      "metadata": {
        "id": "Fi7iYmFSykXr"
      },
      "outputs": [],
      "source": [
        "goon\n",
        "spoon\n",
        "soon\n",
        "noon\n",
        "\n",
        "[o]*"
      ]
    },
    {
      "cell_type": "code",
      "execution_count": null,
      "metadata": {
        "id": "pVr97UEVyy1e"
      },
      "outputs": [],
      "source": [
        "http:// www.example.com\n",
        "https://www.example.com\n",
        "https://example.com\n",
        "http://example.it"
      ]
    },
    {
      "cell_type": "code",
      "execution_count": null,
      "metadata": {
        "id": "sOWICZj8yxR0"
      },
      "outputs": [],
      "source": []
    },
    {
      "cell_type": "markdown",
      "metadata": {
        "id": "5AYjKDxupu1_"
      },
      "source": [
        "## Which strings match these regexp?"
      ]
    },
    {
      "cell_type": "code",
      "execution_count": null,
      "metadata": {
        "id": "siRnCKhyp6Ci"
      },
      "outputs": [],
      "source": [
        "regexp = 'a(ab)*a'\n",
        "\n",
        "#abababa NO\n",
        "#aaba Y\n",
        "#aabbaa NO\n",
        "#aba N\n",
        "#aabababa Y\n"
      ]
    },
    {
      "cell_type": "code",
      "execution_count": null,
      "metadata": {
        "id": "EuRPSdGhztGV"
      },
      "outputs": [],
      "source": [
        "regexp = 'ab+c?'\n",
        "\n",
        "abc\n",
        "ab\n",
        "abbb\n",
        "bbc"
      ]
    },
    {
      "cell_type": "code",
      "execution_count": null,
      "metadata": {
        "id": "_m2UjJUVz2ud"
      },
      "outputs": [],
      "source": [
        "regexp = 'a.[bc]+'\n",
        "\n",
        "abc\n",
        "abbbbbbbbbb\n",
        "azc\n",
        "abcbcbcbc\n",
        "ac\n",
        "asccbbbbbbcbccccc"
      ]
    },
    {
      "cell_type": "code",
      "execution_count": null,
      "metadata": {
        "id": "Ak7Gdd2G0QbX"
      },
      "outputs": [],
      "source": [
        "regexp = '(very )+(fat )?(tall|ugly) man'\n",
        "\n",
        "very fat man\n",
        "fat tall man\n",
        "very very fat ugly man *\n",
        "very very very tall man *"
      ]
    },
    {
      "cell_type": "code",
      "execution_count": null,
      "metadata": {
        "id": "8pMmSPUk1nhT"
      },
      "outputs": [],
      "source": [
        "regexp = '<[^>]+>'\n",
        "\n",
        "<an xml tag>\n",
        "</closetag>\n",
        "<>\n",
        "<attribute = '77'>\n",
        "<all tags"
      ]
    },
    {
      "cell_type": "markdown",
      "metadata": {
        "id": "pEsBvn0a44ji"
      },
      "source": [
        "Now write and run on you laptop...\n",
        "\n",
        "a function that takes a string representing a path to a folder and returns all the files with pdf extension in that folder\n",
        "\n",
        "e.g. path = '/Users/gorla/papers' extension = 'pdf'\n"
      ]
    },
    {
      "cell_type": "code",
      "execution_count": 2,
      "metadata": {
        "id": "4BFO1oO85KGm"
      },
      "outputs": [
        {
          "ename": "SyntaxError",
          "evalue": "incomplete input (284602170.py, line 3)",
          "output_type": "error",
          "traceback": [
            "\u001b[1;36m  Cell \u001b[1;32mIn[2], line 3\u001b[1;36m\u001b[0m\n\u001b[1;33m    \u001b[0m\n\u001b[1;37m    ^\u001b[0m\n\u001b[1;31mSyntaxError\u001b[0m\u001b[1;31m:\u001b[0m incomplete input\n"
          ]
        }
      ],
      "source": [
        "\n",
        "def checks_files_with_extension(path, extension):\n",
        "  # os\n",
        "\n"
      ]
    },
    {
      "cell_type": "code",
      "execution_count": 1,
      "metadata": {},
      "outputs": [
        {
          "data": {
            "text/plain": [
              "'THIS SHOULD BE A PROOF FOR THE FINAL EXAM'"
            ]
          },
          "execution_count": 1,
          "metadata": {},
          "output_type": "execute_result"
        }
      ],
      "source": [
        "'THIS SHOULD BE A PROOF FOR THE FINAL EXAM'"
      ]
    }
  ],
  "metadata": {
    "colab": {
      "provenance": []
    },
    "kernelspec": {
      "display_name": "Python 3",
      "name": "python3"
    },
    "language_info": {
      "codemirror_mode": {
        "name": "ipython",
        "version": 3
      },
      "file_extension": ".py",
      "mimetype": "text/x-python",
      "name": "python",
      "nbconvert_exporter": "python",
      "pygments_lexer": "ipython3",
      "version": "3.11.5"
    }
  },
  "nbformat": 4,
  "nbformat_minor": 0
}
